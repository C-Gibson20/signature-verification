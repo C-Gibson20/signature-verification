{
  "nbformat": 4,
  "nbformat_minor": 0,
  "metadata": {
    "colab": {
      "provenance": [],
      "machine_shape": "hm",
      "gpuType": "V28",
      "authorship_tag": "ABX9TyNRALezo+gGgX9pVWLYZDnb"
    },
    "kernelspec": {
      "name": "python3",
      "display_name": "Python 3"
    },
    "language_info": {
      "name": "python"
    },
    "accelerator": "TPU"
  },
  "cells": [
    {
      "cell_type": "code",
      "source": [
        "pip install keras-tuner"
      ],
      "metadata": {
        "id": "Sry4hs0wxfDc",
        "colab": {
          "base_uri": "https://localhost:8080/"
        },
        "outputId": "37af9b1e-2e69-460a-a06c-24db99449aac"
      },
      "execution_count": null,
      "outputs": [
        {
          "output_type": "stream",
          "name": "stdout",
        }
      ]
    },
    {
      "cell_type": "code",
      "source": [
        "pip install imgaug"
      ],
      "metadata": {
        "colab": {
          "base_uri": "https://localhost:8080/"
        },
        "id": "N5vr6ZqeoiQC",
        "outputId": "9d2b2426-16ad-4c8d-91ff-fd63407e17bb"
      },
      "execution_count": null,
      "outputs": [
        {
          "output_type": "stream",
          "name": "stdout",
        }
      ]
    },
    {
      "cell_type": "code",
      "execution_count": null,
      "metadata": {
        "id": "hGhtJRpU1_XV"
      },
      "outputs": [],
      "source": [
        "import numpy as np\n",
        "import cv2 as cv\n",
        "from collections import defaultdict\n",
        "import itertools\n",
        "import glob\n",
        "import matplotlib.pyplot as plt\n",
        "import shutil\n",
        "import os\n",
        "import random\n",
        "from datetime import datetime\n",
        "import tensorflow as tf\n",
        "from scipy.optimize import brentq\n",
        "from sklearn.metrics import roc_curve\n",
        "from tensorflow.keras.models import Model\n",
        "from tensorflow.keras.optimizers import Adam\n",
        "from tensorflow.keras.applications import ResNet50\n",
        "from tensorflow.keras.optimizers.schedules import LearningRateSchedule\n",
        "from tensorflow.keras.layers import (\n",
        "    Dense, Conv2D, Flatten, BatchNormalization, Input,\n",
        "    Add, Lambda, GlobalAveragePooling2D, Concatenate, Dropout\n",
        ")\n",
        "from tensorflow.keras.callbacks import (\n",
        "    ModelCheckpoint, EarlyStopping, LearningRateScheduler,\n",
        "    TensorBoard, ReduceLROnPlateau\n",
        ")\n",
        "from tensorflow.keras.regularizers import l2\n",
        "from sklearn.model_selection import KFold\n",
        "import keras_tuner as kt\n",
        "import imgaug.augmenters as iaa\n"
      ]
    },
    {
      "cell_type": "code",
      "source": [
        "print(\"Tensorflow version \" + tf.__version__)\n",
        "\n",
        "try:\n",
        "  tpu = tf.distribute.cluster_resolver.TPUClusterResolver()\n",
        "  print(f'Running on a TPU w/{tpu.num_accelerators()[\"TPU\"]} cores')\n",
        "except ValueError:\n",
        "  raise BaseException('ERROR: Not connected to a TPU runtime')\n",
        "\n",
        "tf.config.experimental_connect_to_cluster(tpu)\n",
        "tf.tpu.experimental.initialize_tpu_system(tpu)\n",
        "tpu_strategy = tf.distribute.TPUStrategy(tpu)"
      ],
      "metadata": {
        "id": "4hUuo0Bc2FpP",
        "colab": {
          "base_uri": "https://localhost:8080/"
        },
        "outputId": "65346188-42b1-426b-e7a1-e02cef130581"
      },
      "execution_count": null,
      "outputs": [
        {
          "output_type": "stream",
          "name": "stdout",
          "text": [
            "Tensorflow version 2.15.0\n",
            "Running on a TPU w/8 cores\n"
          ]
        }
      ]
    },
    {
      "cell_type": "code",
      "source": [
        "# Set random seeds for reproducibility\n",
        "random.seed(42)\n",
        "np.random.seed(42)\n",
        "tf.random.set_seed(42)"
      ],
      "metadata": {
        "id": "KPBo-5IzQLOZ"
      },
      "execution_count": null,
      "outputs": []
    },
    {
      "cell_type": "code",
      "source": [
        "def img_norm(img_path):\n",
        "\n",
        "    img_arr = cv.resize(cv.imread(img_path, cv.IMREAD_GRAYSCALE), (155, 220))\n",
        "    thresh_img = cv.threshold(img_arr, 0, 255, cv.THRESH_BINARY+cv.THRESH_OTSU)[1]\n",
        "    inv_thresh_img = abs(255 - thresh_img)\n",
        "\n",
        "    return inv_thresh_img\n",
        "\n",
        "\n",
        "def process_images(image_list, test_dict, train_dict, threshold=11):\n",
        "\n",
        "    for img in image_list:\n",
        "        img_id = img.split('/')[-1].split('_')[1]\n",
        "        normalized_img = img_norm(img.split(':')[-1].strip())\n",
        "        if int(img_id) <= threshold:\n",
        "            test_dict[img_id].append(normalized_img)\n",
        "        else:\n",
        "            train_dict[img_id].append(normalized_img)"
      ],
      "metadata": {
        "id": "a1pq_XJh2INF"
      },
      "execution_count": null,
      "outputs": []
    },
    {
      "cell_type": "code",
      "source": [
        "def augment_image(image):\n",
        "    aug = iaa.Sequential([\n",
        "        iaa.Sometimes(0.5, iaa.Affine(\n",
        "            rotate=(-5, 5),\n",
        "            scale=(0.9, 1.1),\n",
        "            translate_percent={\"x\": (-0.1, 0.1), \"y\": (-0.1, 0.1)}\n",
        "        )),\n",
        "        iaa.Sometimes(0.25, iaa.ElasticTransformation(alpha=1.0, sigma=0.25))\n",
        "    ])\n",
        "    augmented_image = aug(image=image)\n",
        "    return augmented_image\n",
        "\n",
        "\n",
        "def augment_images(images, augment=True):\n",
        "    augmented_images = []\n",
        "    for img in images:\n",
        "        img = augment_image(img)\n",
        "        augmented_images.append(img)\n",
        "    return augmented_images"
      ],
      "metadata": {
        "id": "QecMKuYYsmze"
      },
      "execution_count": null,
      "outputs": []
    },
    {
      "cell_type": "code",
      "source": [
        "def data_generator(org_dict_train, forg_dict_train, batch_size, augment=False, seed=None):\n",
        "    if seed is not None:\n",
        "        np.random.seed(seed)\n",
        "\n",
        "    keys = list(org_dict_train.keys())\n",
        "    keys_len = len(keys)\n",
        "\n",
        "    while True:\n",
        "        anchor_images = np.zeros((batch_size, 220, 155, 3), dtype=np.float32)\n",
        "        positive_images = np.zeros((batch_size, 220, 155, 3), dtype=np.float32)\n",
        "        negative_images = np.zeros((batch_size, 220, 155, 3), dtype=np.float32)\n",
        "\n",
        "        for i in range(batch_size):\n",
        "            key = keys[np.random.randint(keys_len)]\n",
        "\n",
        "            org_images = org_dict_train[key]\n",
        "            forg_images = forg_dict_train[key]\n",
        "\n",
        "            if augment is True:\n",
        "              org_images = augment_images(org_images)\n",
        "              forg_images = augment_images(forg_images)\n",
        "\n",
        "            indices = np.random.choice(len(org_images), 2, replace=False)\n",
        "            anchor_img = np.expand_dims(org_images[indices[0]], axis=-1)\n",
        "            positive_img = np.expand_dims(org_images[indices[1]], axis=-1)\n",
        "            negative_img = np.expand_dims(forg_images[np.random.randint(len(forg_images))], axis=-1)\n",
        "\n",
        "            anchor_images[i] = np.tile(anchor_img, (1, 1, 1, 3))\n",
        "            positive_images[i] = np.tile(positive_img, (1, 1, 1, 3))\n",
        "            negative_images[i] = np.tile(negative_img, (1, 1, 1, 3))\n",
        "\n",
        "        yield anchor_images, positive_images, negative_images"
      ],
      "metadata": {
        "id": "RgCWsUSr2K9u"
      },
      "execution_count": null,
      "outputs": []
    },
    {
      "cell_type": "code",
      "source": [
        "def semi_hard_triplet_loss(labels, embeddings, margin=0.2):\n",
        "\n",
        "    pairwise_distances = tf.matmul(embeddings, embeddings, transpose_b=True)\n",
        "    pairwise_distances = 1.0 - pairwise_distances\n",
        "\n",
        "    anchor_positive_dist = tf.expand_dims(pairwise_distances, 2)\n",
        "    anchor_negative_dist = tf.expand_dims(pairwise_distances, 1)\n",
        "\n",
        "    triplet_loss = anchor_positive_dist - anchor_negative_dist + margin\n",
        "\n",
        "    labels = tf.reshape(labels, [-1, 1])\n",
        "    mask_anchor_positive = tf.equal(labels, tf.transpose(labels))\n",
        "    mask_anchor_negative = tf.not_equal(labels, tf.transpose(labels))\n",
        "\n",
        "    mask_anchor_positive = tf.expand_dims(mask_anchor_positive, 2)\n",
        "    mask_anchor_negative = tf.expand_dims(mask_anchor_negative, 1)\n",
        "\n",
        "    semi_hard_triplet_mask = tf.logical_and(\n",
        "        tf.less(anchor_positive_dist, anchor_negative_dist),\n",
        "        tf.less(anchor_negative_dist, anchor_positive_dist + margin)\n",
        "    )\n",
        "\n",
        "    mask_triplets = tf.logical_and(mask_anchor_positive, mask_anchor_negative)\n",
        "    mask_triplets = tf.logical_and(mask_triplets, semi_hard_triplet_mask)\n",
        "\n",
        "    triplet_loss = tf.maximum(triplet_loss, 0.0)\n",
        "    mask_triplets = tf.cast(mask_triplets, tf.float32)\n",
        "\n",
        "    triplet_loss = tf.multiply(mask_triplets, triplet_loss)\n",
        "    valid_triplet_count = tf.reduce_sum(mask_triplets)\n",
        "    triplet_loss = tf.reduce_sum(triplet_loss) / (valid_triplet_count + 1e-16)\n",
        "\n",
        "    return triplet_loss"
      ],
      "metadata": {
        "id": "Rexa_e-V2MxS"
      },
      "execution_count": null,
      "outputs": []
    },
    {
      "cell_type": "code",
      "source": [
        "def create_embedding_model(input_shape=(220, 155, 3), embedding_size=256):\n",
        "\n",
        "    base_model = ResNet50(include_top=False, weights='imagenet', input_shape=input_shape)\n",
        "    base_model.trainable = False\n",
        "\n",
        "    for layer in base_model.layers[-30:]:\n",
        "      layer.Trainable = True\n",
        "\n",
        "    intermediate_layer = base_model.get_layer('conv4_block6_add').output\n",
        "\n",
        "    x = Conv2D(64, kernel_size=3, activation='relu', padding='same', kernel_regularizer=l2(0.01))(intermediate_layer)\n",
        "    x = BatchNormalization()(x)\n",
        "    x = Dropout(0.5)(x)\n",
        "    x = Conv2D(64, kernel_size=3, activation='relu', padding='same', kernel_regularizer=l2(0.01))(x)\n",
        "    x = BatchNormalization()(x)\n",
        "    x = Dropout(0.5)(x)\n",
        "\n",
        "    skip_connection = Conv2D(64, kernel_size=1, activation='relu', padding='same')(intermediate_layer)\n",
        "    skip_connection = BatchNormalization()(skip_connection)\n",
        "\n",
        "    x = Add()([x, skip_connection])\n",
        "    x = GlobalAveragePooling2D()(x)\n",
        "    x = Flatten()(x)\n",
        "    x = Dense(embedding_size)(x)\n",
        "    x = Lambda(lambda x: tf.nn.l2_normalize(x, axis=1))(x)\n",
        "\n",
        "    return Model(inputs=base_model.input, outputs=x)"
      ],
      "metadata": {
        "id": "s6ZGq2xh2Qem"
      },
      "execution_count": null,
      "outputs": []
    },
    {
      "cell_type": "code",
      "source": [
        "class CustomModel(tf.keras.Model):\n",
        "\n",
        "    def __init__(self, embedding_model, margin=0.2, threshold=0.5):\n",
        "\n",
        "        super().__init__()\n",
        "        self.embedding_model = embedding_model\n",
        "        self.margin = margin\n",
        "        self.threshold = threshold\n",
        "        self.loss_tracker = tf.keras.metrics.Mean(name=\"loss\")\n",
        "        self.val_accuracy_tracker = tf.keras.metrics.BinaryAccuracy(name=\"val_accuracy\")\n",
        "\n",
        "    def call(self, inputs):\n",
        "\n",
        "        anchor, positive, negative = inputs\n",
        "        anchor_embedding = self.embedding_model(anchor)\n",
        "        positive_embedding = self.embedding_model(positive)\n",
        "        negative_embedding = self.embedding_model(negative)\n",
        "\n",
        "        return anchor_embedding, positive_embedding, negative_embedding\n",
        "\n",
        "\n",
        "    def train_step(self, data):\n",
        "\n",
        "        anchor, positive, negative = data\n",
        "\n",
        "        with tf.GradientTape() as tape:\n",
        "            anchor_embedding, positive_embedding, negative_embedding = self((anchor, positive, negative))\n",
        "\n",
        "            embeddings = tf.concat([anchor_embedding, positive_embedding, negative_embedding], axis=0)\n",
        "            labels = tf.concat([\n",
        "                tf.zeros(anchor_embedding.shape[0]),\n",
        "                tf.ones(positive_embedding.shape[0]),\n",
        "                2 * tf.ones(negative_embedding.shape[0])\n",
        "            ], axis=0)\n",
        "\n",
        "            loss = semi_hard_triplet_loss(labels, embeddings, margin=self.margin)\n",
        "\n",
        "        gradients = tape.gradient(loss, self.embedding_model.trainable_weights)\n",
        "        self.optimizer.apply_gradients(zip(gradients, self.embedding_model.trainable_weights))\n",
        "        self.loss_tracker.update_state(loss)\n",
        "\n",
        "        return {\"loss\": self.loss_tracker.result()}\n",
        "\n",
        "    def test_step(self, data):\n",
        "        anchor, positive, negative = data\n",
        "        anchor_embedding, positive_embedding, negative_embedding = self((anchor, positive, negative))\n",
        "\n",
        "        anchor_embedding = tf.math.l2_normalize(anchor_embedding, axis=1)\n",
        "        positive_embedding = tf.math.l2_normalize(positive_embedding, axis=1)\n",
        "        negative_embedding = tf.math.l2_normalize(negative_embedding, axis=1)\n",
        "\n",
        "        pos_distances = 1 - tf.reduce_sum(anchor_embedding * positive_embedding, axis=1)\n",
        "        neg_distances = 1 - tf.reduce_sum(anchor_embedding * negative_embedding, axis=1)\n",
        "\n",
        "        pos_predictions = pos_distances < self.threshold\n",
        "        neg_predictions = neg_distances > self.threshold\n",
        "\n",
        "        y_true = tf.concat([tf.ones_like(pos_predictions), tf.zeros_like(neg_predictions)], axis=0)\n",
        "        y_pred = tf.concat([tf.cast(pos_predictions, tf.int32), tf.cast(neg_predictions, tf.int32)], axis=0)\n",
        "\n",
        "        self.val_accuracy_tracker.update_state(y_true, y_pred)\n",
        "\n",
        "        return {\"val_accuracy\": self.val_accuracy_tracker.result(), \"y_true\": y_true, \"y_pred\": y_pred}\n",
        "\n",
        "\n",
        "    def custom_predict(self, anchor, test):\n",
        "      anchor = img_norm(anchor)\n",
        "      test = img_norm(test)\n",
        "\n",
        "      anchor_embedding = self.embedding_model.predict(anchor)\n",
        "      test_embedding = self.embedding_model.predict(test)\n",
        "\n",
        "      similarity = tf.keras.losses.cosine_similarity(anchor_embedding, test_embedding)\n",
        "      return similarity\n",
        "\n",
        "    def reset_metrics(self):\n",
        "        self.val_accuracy_tracker.reset_states()\n",
        "        self.loss_tracker.reset_states()\n",
        "\n",
        "    def get_config(self):\n",
        "\n",
        "        config = super(CustomModel, self).get_config()\n",
        "        config.update({\n",
        "            \"embedding_model\": self.embedding_model,\n",
        "            \"margin\": self.margin,\n",
        "            \"threshold\": self.threshold\n",
        "        })\n",
        "\n",
        "        return config\n",
        "\n",
        "    @classmethod\n",
        "    def from_config(cls, config):\n",
        "        return cls(**config)\n",
        "\n",
        "    @property\n",
        "    def metrics(self):\n",
        "        return [self.loss_tracker, self.val_accuracy_tracker]"
      ],
      "metadata": {
        "id": "_4IFFnKH2SM1"
      },
      "execution_count": null,
      "outputs": []
    },
    {
      "cell_type": "code",
      "source": [
        "def create_model(embedding_size=256, margin=0.2, initial_lr=0.001, threshold=0.2):\n",
        "\n",
        "    embedding_model = create_embedding_model(input_shape=(220, 155, 3), embedding_size=embedding_size)\n",
        "\n",
        "    return CustomModel(embedding_model, margin=margin, threshold=threshold)"
      ],
      "metadata": {
        "id": "l-v2U6d42ULl"
      },
      "execution_count": null,
      "outputs": []
    },
    {
      "cell_type": "code",
      "source": [
        "def cross_validate_on_tpu(org_dict_train, forg_dict_train, kf, embedding_size=256, margin=0.2, initial_lr=0.001, threshold=0.5, epochs=25, batch_size=128, seed=42):\n",
        "    all_val_accuracies = []\n",
        "    checkpoint_paths = []\n",
        "\n",
        "    keys = list(org_dict_train.keys())\n",
        "    for fold, (train_index, val_index) in enumerate(kf.split(keys)):\n",
        "        train_keys = [keys[i] for i in train_index]\n",
        "        val_keys = [keys[i] for i in val_index]\n",
        "\n",
        "        train_org_dict = {key: org_dict_train[key] for key in train_keys}\n",
        "        val_org_dict = {key: org_dict_train[key] for key in val_keys}\n",
        "\n",
        "        train_forg_dict = {key: forg_dict_train[key] for key in train_keys}\n",
        "        val_forg_dict = {key: forg_dict_train[key] for key in val_keys}\n",
        "\n",
        "        with tpu_strategy.scope():\n",
        "            model = create_model(embedding_size=embedding_size, margin=margin, initial_lr=initial_lr, threshold=threshold)\n",
        "            steps_per_epoch = (len(train_org_dict) * 48) // batch_size\n",
        "            validation_steps = (len(val_org_dict) * 48) // batch_size\n",
        "\n",
        "            optimizer = Adam(learning_rate=initial_lr)\n",
        "            model.compile(optimizer, weighted_metrics=[])\n",
        "            model.reset_metrics()\n",
        "\n",
        "            training_dataset = tf.data.Dataset.from_generator(\n",
        "                lambda: data_generator(train_org_dict, train_forg_dict, batch_size, augment=True, seed=seed+fold),\n",
        "                output_signature=(\n",
        "                    tf.TensorSpec(shape=(batch_size, 220, 155, 3), dtype=tf.float32),\n",
        "                    tf.TensorSpec(shape=(batch_size, 220, 155, 3), dtype=tf.float32),\n",
        "                    tf.TensorSpec(shape=(batch_size, 220, 155, 3), dtype=tf.float32)\n",
        "                )\n",
        "            ).prefetch(tf.data.AUTOTUNE)\n",
        "\n",
        "            validation_dataset = tf.data.Dataset.from_generator(\n",
        "                lambda: data_generator(val_org_dict, val_forg_dict, batch_size, augment=False, seed=seed+fold),\n",
        "                output_signature=(\n",
        "                    tf.TensorSpec(shape=(batch_size, 220, 155, 3), dtype=tf.float32),\n",
        "                    tf.TensorSpec(shape=(batch_size, 220, 155, 3), dtype=tf.float32),\n",
        "                    tf.TensorSpec(shape=(batch_size, 220, 155, 3), dtype=tf.float32)\n",
        "                )\n",
        "            ).prefetch(tf.data.AUTOTUNE)\n",
        "\n",
        "            log_dir = \"logs/fit/\" + datetime.now().strftime(\"%Y%m%d-%H%M%S\")\n",
        "            tensorboard_callback = TensorBoard(log_dir=log_dir, histogram_freq=1)\n",
        "\n",
        "            lr_scheduler = ReduceLROnPlateau(monitor='val_val_accuracy', factor=0.1, patience=3, mode='max', verbose=1)\n",
        "\n",
        "            checkpoint_filepath = f\"model_checkpoint_fold_{fold}.keras\"\n",
        "            callbacks = [\n",
        "                ModelCheckpoint(filepath=checkpoint_filepath, save_best_only=True, monitor=\"val_val_accuracy\", mode=\"max\"),\n",
        "                EarlyStopping(monitor=\"val_val_accuracy\", patience=5, mode=\"max\", restore_best_weights=True),\n",
        "                tensorboard_callback\n",
        "            ]\n",
        "\n",
        "            history = model.fit(\n",
        "                training_dataset,\n",
        "                validation_data=validation_dataset,\n",
        "                epochs=epochs,\n",
        "                steps_per_epoch=steps_per_epoch,\n",
        "                validation_steps=validation_steps,\n",
        "                callbacks=callbacks\n",
        "            )\n",
        "\n",
        "            val_accuracy = np.max(history.history['val_val_accuracy'])\n",
        "            all_val_accuracies.append(val_accuracy)\n",
        "            checkpoint_paths.append(checkpoint_filepath)\n",
        "\n",
        "    return all_val_accuracies, checkpoint_paths, history\n"
      ],
      "metadata": {
        "id": "Q0ukRAoA9x7n"
      },
      "execution_count": null,
      "outputs": []
    },
    {
      "cell_type": "code",
      "source": [
        "# Load the TensorBoard extension\n",
        "%load_ext tensorboard"
      ],
      "metadata": {
        "id": "-f0VYEiS2Wbi"
      },
      "execution_count": null,
      "outputs": []
    },
    {
      "cell_type": "code",
      "source": [
        "# Remove any previous logs to avoid conflicts\n",
        "shutil.rmtree('logs/fit/', ignore_errors=True)"
      ],
      "metadata": {
        "id": "xXV6Ri_xHc7L"
      },
      "execution_count": null,
      "outputs": []
    },
    {
      "cell_type": "code",
      "source": [
        "forg =!unzip -o full_forg.zip"
      ],
      "metadata": {
        "id": "FSuMnHKV2bnn"
      },
      "execution_count": null,
      "outputs": []
    },
    {
      "cell_type": "code",
      "source": [
        "org =!unzip -o full_org.zip"
      ],
      "metadata": {
        "id": "5bznZNn72cP9"
      },
      "execution_count": null,
      "outputs": []
    },
    {
      "cell_type": "code",
      "source": [
        "org_dict_test = defaultdict(list)\n",
        "forg_dict_test = defaultdict(list)\n",
        "org_dict_train = defaultdict(list)\n",
        "forg_dict_train = defaultdict(list)\n",
        "\n",
        "process_images(org[1:-1], org_dict_test, org_dict_train)\n",
        "process_images(forg[1:-1], forg_dict_test, forg_dict_train)"
      ],
      "metadata": {
        "id": "uJWpE9Fd2d3i"
      },
      "execution_count": null,
      "outputs": []
    },
    {
      "cell_type": "code",
      "source": [
        "embedding_size = 256\n",
        "margin = 0.2\n",
        "initial_lr = 0.001\n",
        "threshold = 0.8\n",
        "batch_size = 16 * tpu_strategy.num_replicas_in_sync\n",
        "\n",
        "kf = KFold(n_splits=4, shuffle=True, random_state=42)\n",
        "all_val_accuracies, checkpoint_paths, history = cross_validate_on_tpu(\n",
        "    org_dict_train,\n",
        "    forg_dict_train,\n",
        "    kf=kf,\n",
        "    batch_size=batch_size,\n",
        "    embedding_size=embedding_size,\n",
        "      epochs=25,\n",
        "    initial_lr=initial_lr,\n",
        "    margin=margin,\n",
        "    threshold=threshold\n",
        ")\n",
        "\n",
        "#%tensorboard --logdir logs/fit"
      ],
      "metadata": {
        "colab": {
          "base_uri": "https://localhost:8080/"
        },
        "id": "L-CDDXs6C8Gr",
        "outputId": "7293889a-823d-41bf-d741-d93ec1640c56"
      },
      "execution_count": null,
      "outputs": [
        {
          "output_type": "stream",
          "name": "stdout",
          "text": [
            "Epoch 1/25\n",
            "12/12 [==============================] - 133s 10s/step - loss: 0.1282 - val_val_accuracy: 0.7217\n",
            "Epoch 2/25\n",
            "12/12 [==============================] - 90s 8s/step - loss: 0.1094 - val_val_accuracy: 0.7012\n",
            "Epoch 3/25\n",
            "12/12 [==============================] - 102s 9s/step - loss: 0.1056 - val_val_accuracy: 0.6895\n",
            "Epoch 4/25\n",
            "12/12 [==============================] - 102s 9s/step - loss: 0.1048 - val_val_accuracy: 0.7109\n",
            "Epoch 5/25\n",
            "12/12 [==============================] - 106s 9s/step - loss: 0.1046 - val_val_accuracy: 0.7451\n",
            "Epoch 6/25\n",
            "12/12 [==============================] - 100s 9s/step - loss: 0.1047 - val_val_accuracy: 0.7344\n",
            "Epoch 7/25\n",
            "12/12 [==============================] - 105s 9s/step - loss: 0.1037 - val_val_accuracy: 0.7490\n",
            "Epoch 8/25\n",
            "12/12 [==============================] - 99s 9s/step - loss: 0.1031 - val_val_accuracy: 0.7217\n",
            "Epoch 9/25\n",
            "12/12 [==============================] - 105s 9s/step - loss: 0.1027 - val_val_accuracy: 0.7705\n",
            "Epoch 10/25\n",
            "12/12 [==============================] - 99s 9s/step - loss: 0.1021 - val_val_accuracy: 0.7197\n",
            "Epoch 11/25\n",
            "12/12 [==============================] - 102s 9s/step - loss: 0.1024 - val_val_accuracy: 0.7178\n",
            "Epoch 12/25\n",
            "12/12 [==============================] - 101s 9s/step - loss: 0.1030 - val_val_accuracy: 0.7334\n",
            "Epoch 13/25\n",
            "12/12 [==============================] - 101s 9s/step - loss: 0.1019 - val_val_accuracy: 0.7207\n",
            "Epoch 14/25\n",
            "12/12 [==============================] - 107s 10s/step - loss: 0.1026 - val_val_accuracy: 0.7305\n",
            "Epoch 1/25\n",
            "12/12 [==============================] - 131s 10s/step - loss: 0.1254 - val_val_accuracy: 0.7510\n",
            "Epoch 2/25\n",
            "12/12 [==============================] - 89s 8s/step - loss: 0.1092 - val_val_accuracy: 0.7031\n",
            "Epoch 3/25\n",
            "12/12 [==============================] - 104s 9s/step - loss: 0.1066 - val_val_accuracy: 0.8232\n",
            "Epoch 4/25\n",
            "12/12 [==============================] - 97s 9s/step - loss: 0.1065 - val_val_accuracy: 0.8164\n",
            "Epoch 5/25\n",
            "12/12 [==============================] - 103s 9s/step - loss: 0.1056 - val_val_accuracy: 0.8447\n",
            "Epoch 6/25\n",
            "12/12 [==============================] - 97s 9s/step - loss: 0.1049 - val_val_accuracy: 0.7842\n",
            "Epoch 7/25\n",
            "12/12 [==============================] - 99s 9s/step - loss: 0.1046 - val_val_accuracy: 0.6943\n",
            "Epoch 8/25\n",
            "12/12 [==============================] - 99s 9s/step - loss: 0.1033 - val_val_accuracy: 0.7285\n",
            "Epoch 9/25\n",
            "12/12 [==============================] - 99s 9s/step - loss: 0.1039 - val_val_accuracy: 0.7363\n",
            "Epoch 10/25\n",
            "12/12 [==============================] - 105s 9s/step - loss: 0.1044 - val_val_accuracy: 0.7295\n",
            "Epoch 1/25\n",
            "12/12 [==============================] - 152s 11s/step - loss: 0.1266 - val_val_accuracy: 0.7178\n",
            "Epoch 2/25\n",
            "12/12 [==============================] - 90s 8s/step - loss: 0.1072 - val_val_accuracy: 0.7041\n",
            "Epoch 3/25\n",
            "12/12 [==============================] - 101s 9s/step - loss: 0.1056 - val_val_accuracy: 0.7021\n",
            "Epoch 4/25\n",
            "12/12 [==============================] - 105s 9s/step - loss: 0.1050 - val_val_accuracy: 0.7324\n",
            "Epoch 5/25\n",
            "12/12 [==============================] - 97s 9s/step - loss: 0.1039 - val_val_accuracy: 0.6914\n",
            "Epoch 6/25\n",
            "12/12 [==============================] - 101s 9s/step - loss: 0.1040 - val_val_accuracy: 0.7158\n",
            "Epoch 7/25\n",
            "12/12 [==============================] - 99s 9s/step - loss: 0.1044 - val_val_accuracy: 0.6953\n",
            "Epoch 8/25\n",
            "12/12 [==============================] - 99s 9s/step - loss: 0.1026 - val_val_accuracy: 0.6855\n",
            "Epoch 9/25\n",
            "12/12 [==============================] - 106s 9s/step - loss: 0.1022 - val_val_accuracy: 0.6758\n",
            "Epoch 1/25\n",
            "12/12 [==============================] - 151s 11s/step - loss: 0.1312 - val_val_accuracy: 0.7236\n",
            "Epoch 2/25\n",
            "12/12 [==============================] - 88s 8s/step - loss: 0.1129 - val_val_accuracy: 0.6758\n",
            "Epoch 3/25\n",
            "12/12 [==============================] - 102s 9s/step - loss: 0.1088 - val_val_accuracy: 0.7979\n",
            "Epoch 4/25\n",
            "12/12 [==============================] - 96s 9s/step - loss: 0.1053 - val_val_accuracy: 0.7334\n",
            "Epoch 5/25\n",
            "12/12 [==============================] - 99s 9s/step - loss: 0.1051 - val_val_accuracy: 0.6377\n",
            "Epoch 6/25\n",
            "12/12 [==============================] - 102s 9s/step - loss: 0.1050 - val_val_accuracy: 0.8301\n",
            "Epoch 7/25\n",
            "12/12 [==============================] - 97s 9s/step - loss: 0.1047 - val_val_accuracy: 0.7354\n",
            "Epoch 8/25\n",
            "12/12 [==============================] - 100s 9s/step - loss: 0.1041 - val_val_accuracy: 0.6982\n",
            "Epoch 9/25\n",
            "12/12 [==============================] - 100s 9s/step - loss: 0.1041 - val_val_accuracy: 0.7148\n",
            "Epoch 10/25\n",
            "12/12 [==============================] - 100s 9s/step - loss: 0.1035 - val_val_accuracy: 0.7822\n",
            "Epoch 11/25\n",
            "12/12 [==============================] - 106s 9s/step - loss: 0.1046 - val_val_accuracy: 0.7705\n"
          ]
        }
      ]
    },
    {
      "cell_type": "code",
      "source": [
        "embedding_size = 256\n",
        "margin = 0.2\n",
        "initial_lr = 0.001\n",
        "threshold = 0.9\n",
        "batch_size = 16 * tpu_strategy.num_replicas_in_sync\n",
        "\n",
        "# best_fold_index = np.argmax(all_val_accuracies)\n",
        "# print(best_fold_index)\n",
        "\n",
        "# best_checkpoint_path = checkpoint_paths[best_fold_index]\n",
        "\n",
        "# Instantiate the best model using the same strategy scope\n",
        "with tpu_strategy.scope():\n",
        "    best_model = create_model(embedding_size=embedding_size, margin=margin, initial_lr=initial_lr, threshold=threshold)\n",
        "    best_model.load_weights('model_checkpoint_fold_1.keras')\n",
        "    optimizer = Adam(learning_rate=initial_lr)\n",
        "    best_model.compile(optimizer, weighted_metrics=[])"
      ],
      "metadata": {
        "id": "M3gOHr4t3V2n"
      },
      "execution_count": null,
      "outputs": []
    },
    {
      "cell_type": "code",
      "source": [
        "def prepare_test_dataset(org_dict_test, forg_dict_test, batch_size, seed=42):\n",
        "\n",
        "    test_dataset = tf.data.Dataset.from_generator(\n",
        "        lambda: data_generator(org_dict_test, forg_dict_test, batch_size, augment=False, seed=seed),\n",
        "        output_signature=(\n",
        "            tf.TensorSpec(shape=(batch_size, 220, 155, 3), dtype=tf.float32),\n",
        "            tf.TensorSpec(shape=(batch_size, 220, 155, 3), dtype=tf.float32),\n",
        "            tf.TensorSpec(shape=(batch_size, 220, 155, 3), dtype=tf.float32)\n",
        "        )\n",
        "    ).prefetch(tf.data.AUTOTUNE)\n",
        "\n",
        "    return test_dataset"
      ],
      "metadata": {
        "id": "ICeUF6BsWGdV"
      },
      "execution_count": null,
      "outputs": []
    },
    {
      "cell_type": "code",
      "source": [
        "from sklearn.metrics import confusion_matrix\n",
        "import seaborn as sns\n",
        "\n",
        "best_batch_size = 16 * tpu_strategy.num_replicas_in_sync\n",
        "test_dataset = prepare_test_dataset(org_dict_test, forg_dict_test, best_batch_size)\n",
        "steps = (len(org_dict_test) * 48) // best_batch_size\n",
        "\n",
        "best_model.reset_metrics()\n",
        "evaluation_metrics = best_model.evaluate(test_dataset, steps=steps, return_dict=True)\n",
        "\n",
        "print(\"Evaluation Metrics:\", evaluation_metrics['val_accuracy'])\n",
        "\n",
        "# y_true = evaluation_metrics.pop(\"y_true\", None)\n",
        "# y_pred = evaluation_metrics.pop(\"y_pred\", None)\n",
        "\n",
        "# print(\"Evaluation Metrics:\", evaluation_metrics)\n",
        "# print('')\n",
        "\n",
        "# if y_true is not None and y_pred is not None:\n",
        "#     cm = confusion_matrix(y_true, y_pred)\n",
        "\n",
        "#     plt.figure(figsize=(10, 7))\n",
        "#     sns.heatmap(cm, annot=True, fmt='d', cmap='Blues', xticklabels=['Predicted Negative', 'Predicted Positive'], yticklabels=['True Negative', 'True Positive'])\n",
        "#     plt.xlabel('Predicted')\n",
        "#     plt.ylabel('True')\n",
        "#     plt.title('Confusion Matrix')\n",
        "#     plt.show()"
      ],
      "metadata": {
        "colab": {
          "base_uri": "https://localhost:8080/",
          "height": 695
        },
        "id": "jEAS_UfWijzY",
        "outputId": "0fca15c9-f6f3-4f57-98bf-a1d1e23cb347"
      },
      "execution_count": null,
      "outputs": [
        {
          "output_type": "stream",
          "name": "stdout",
          "text": [
            "4/4 [==============================] - 12s 41ms/step - val_accuracy: 0.8389 - y_true: 0.5000 - y_pred: 0.6438\n",
            "Evaluation Metrics: {'val_accuracy': 0.8388671875}\n",
            "\n"
          ]
        },
        {
          "output_type": "display_data",
          "data": {
            "text/plain": [
              "<Figure size 1000x700 with 2 Axes>"
            ],
            "image/png": "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\n"
          },
          "metadata": {}
        }
      ]
    }
  ]
}
